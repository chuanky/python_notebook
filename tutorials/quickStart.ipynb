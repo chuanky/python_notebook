{
 "cells": [
  {
   "cell_type": "code",
   "execution_count": 1,
   "metadata": {},
   "outputs": [],
   "source": [
    "import torch\n",
    "from torch import nn\n",
    "from torch.utils.data import DataLoader\n",
    "from torchvision import datasets\n",
    "from torchvision.transforms import ToTensor, Lambda, Compose\n",
    "import matplotlib.pyplot as plt"
   ]
  },
  {
   "cell_type": "code",
   "execution_count": 2,
   "metadata": {},
   "outputs": [],
   "source": [
    "# Download training data from open datasets.\n",
    "training_data = datasets.FashionMNIST(\n",
    "    root=\"../data\",\n",
    "    train=True,\n",
    "    download=True,\n",
    "    transform=ToTensor(),\n",
    ")\n",
    "\n",
    "# Download test data from open datasets.\n",
    "test_data = datasets.FashionMNIST(\n",
    "    root=\"../data\",\n",
    "    train=False,\n",
    "    download=True,\n",
    "    transform=ToTensor(),\n",
    ")"
   ]
  },
  {
   "cell_type": "code",
   "execution_count": 3,
   "metadata": {},
   "outputs": [
    {
     "output_type": "stream",
     "name": "stdout",
     "text": [
      "Shape of X [N, C, H, W]:  torch.Size([64, 1, 28, 28])\nShape of y:  torch.Size([64]) torch.int64\n"
     ]
    }
   ],
   "source": [
    "batch_size = 64\n",
    "\n",
    "# Create data loaders.\n",
    "train_dataloader = DataLoader(training_data, batch_size=batch_size)\n",
    "test_dataloader = DataLoader(test_data, batch_size=batch_size)\n",
    "\n",
    "for X, y in test_dataloader:\n",
    "    print(\"Shape of X [N, C, H, W]: \", X.shape)\n",
    "    print(\"Shape of y: \", y.shape, y.dtype)\n",
    "    break"
   ]
  },
  {
   "cell_type": "code",
   "execution_count": 4,
   "metadata": {
    "tags": []
   },
   "outputs": [
    {
     "output_type": "stream",
     "name": "stdout",
     "text": [
      "Using cuda device\n",
      "NeuralNetwork(\n",
      "  (flatten): Flatten(start_dim=1, end_dim=-1)\n",
      "  (linear_relu_stack): Sequential(\n",
      "    (0): Linear(in_features=784, out_features=512, bias=True)\n",
      "    (1): ReLU()\n",
      "    (2): Linear(in_features=512, out_features=512, bias=True)\n",
      "    (3): ReLU()\n",
      "    (4): Linear(in_features=512, out_features=10, bias=True)\n",
      "    (5): ReLU()\n",
      "  )\n",
      ")\n"
     ]
    }
   ],
   "source": [
    "# use gpu for trainning when available\n",
    "device = \"cuda\" if torch.cuda.is_available() else \"cpu\"\n",
    "print(\"Using {} device\".format(device))\n",
    "\n",
    "# Define model\n",
    "class NeuralNetwork(nn.Module):\n",
    "    def __init__(self):\n",
    "        super(NeuralNetwork, self).__init__()\n",
    "        # convert a 2D 28*28 image into a contiguous array of 784 pixel values\n",
    "        self.flatten = nn.Flatten()\n",
    "        self.linear_relu_stack = nn.Sequential(\n",
    "            # The linear layer is a module that applies a linear transformation on the input using it’s stored weights and biases.\n",
    "            nn.Linear(28*28, 512),\n",
    "            # Non-linear activations are applied after linear transformations to introduce nonlinearity, helping neural networks learn a wide variety of phenomena.\n",
    "            nn.ReLU(),\n",
    "            nn.Linear(512, 512),\n",
    "            # ReLU sets all the negative values to 0 and keep the positive values\n",
    "            nn.ReLU(),\n",
    "            # returns logits - raw values in [-infty, infty]\n",
    "            nn.Linear(512, 10),\n",
    "            nn.ReLU()\n",
    "        )\n",
    "\n",
    "    def forward(self, x):\n",
    "        x = self.flatten(x)\n",
    "        logits = self.linear_relu_stack(x)\n",
    "        return logits\n",
    "\n",
    "model = NeuralNetwork().to(device)\n",
    "print(model)"
   ]
  },
  {
   "cell_type": "code",
   "execution_count": 5,
   "metadata": {},
   "outputs": [
    {
     "output_type": "stream",
     "name": "stdout",
     "text": [
      "tensor([[0.0622, 0.0000, 0.0376, 0.0670, 0.0182, 0.0000, 0.0324, 0.0000, 0.0000,\n         0.0120]], device='cuda:0', grad_fn=<ReluBackward0>)\nPredicted class: tensor([3], device='cuda:0')\n"
     ]
    }
   ],
   "source": [
    "# Given an input, we can get a 10-dim tensor which stands for probability distribution\n",
    "X = torch.rand(1, 28, 28, device=device)\n",
    "logits = model(X)\n",
    "print(logits)\n",
    "# get the prediction probabilities by passing it through an instance of the nn.Softmax module.\n",
    "pred_probab = nn.Softmax(dim=1)(logits)\n",
    "y_pred = pred_probab.argmax(1)\n",
    "print(f\"Predicted class: {y_pred}\")"
   ]
  },
  {
   "cell_type": "code",
   "execution_count": 6,
   "metadata": {},
   "outputs": [
    {
     "output_type": "stream",
     "name": "stdout",
     "text": [
      "Layer: linear_relu_stack.0.weight | Size: torch.Size([512, 784]) | Values : tensor([[-0.0225, -0.0095,  0.0205,  ..., -0.0246,  0.0275, -0.0315],\n        [-0.0089, -0.0357, -0.0090,  ...,  0.0068,  0.0106, -0.0327]],\n       device='cuda:0', grad_fn=<SliceBackward>) \n\nLayer: linear_relu_stack.0.bias | Size: torch.Size([512]) | Values : tensor([-0.0214,  0.0027], device='cuda:0', grad_fn=<SliceBackward>) \n\nLayer: linear_relu_stack.2.weight | Size: torch.Size([512, 512]) | Values : tensor([[-2.3879e-02, -3.1113e-02, -7.0927e-03,  ..., -9.8275e-03,\n          9.9797e-05,  4.0105e-02],\n        [-2.3977e-02,  3.8766e-02, -1.1695e-02,  ...,  3.6612e-03,\n          2.0632e-02,  2.4773e-04]], device='cuda:0', grad_fn=<SliceBackward>) \n\nLayer: linear_relu_stack.2.bias | Size: torch.Size([512]) | Values : tensor([0.0062, 0.0051], device='cuda:0', grad_fn=<SliceBackward>) \n\nLayer: linear_relu_stack.4.weight | Size: torch.Size([10, 512]) | Values : tensor([[ 0.0105, -0.0159, -0.0224,  ..., -0.0403, -0.0110,  0.0335],\n        [-0.0255,  0.0284,  0.0239,  ..., -0.0205,  0.0132,  0.0367]],\n       device='cuda:0', grad_fn=<SliceBackward>) \n\nLayer: linear_relu_stack.4.bias | Size: torch.Size([10]) | Values : tensor([ 0.0008, -0.0394], device='cuda:0', grad_fn=<SliceBackward>) \n\n"
     ]
    }
   ],
   "source": [
    "for name, param in model.named_parameters():\n",
    "    print(f\"Layer: {name} | Size: {param.size()} | Values : {param[:2]} \\n\")"
   ]
  },
  {
   "cell_type": "code",
   "execution_count": 7,
   "metadata": {},
   "outputs": [],
   "source": [
    "loss_fn = nn.CrossEntropyLoss()\n",
    "optimizer = torch.optim.SGD(model.parameters(), lr=1e-3)"
   ]
  },
  {
   "cell_type": "code",
   "execution_count": 8,
   "metadata": {},
   "outputs": [],
   "source": [
    "def train(dataloader, model, loss_fn, optimizer):\n",
    "    size = len(dataloader.dataset)\n",
    "    for batch, (X, y) in enumerate(dataloader):\n",
    "        X, y = X.to(device), y.to(device)\n",
    "\n",
    "        # Compute prediction error\n",
    "        pred = model(X)\n",
    "        loss = loss_fn(pred, y)\n",
    "\n",
    "        # Backpropagation\n",
    "        optimizer.zero_grad()\n",
    "        loss.backward()\n",
    "        optimizer.step()\n",
    "\n",
    "        if batch % 100 == 0:\n",
    "            loss, current = loss.item(), batch * len(X)\n",
    "            print(f\"loss: {loss:>7f}  [{current:>5d}/{size:>5d}]\")"
   ]
  },
  {
   "cell_type": "code",
   "execution_count": 9,
   "metadata": {},
   "outputs": [],
   "source": [
    "def test(dataloader, model):\n",
    "    size = len(dataloader.dataset)\n",
    "    model.eval()\n",
    "    test_loss, correct = 0, 0\n",
    "    with torch.no_grad():\n",
    "        for X, y in dataloader:\n",
    "            X, y = X.to(device), y.to(device)\n",
    "            pred = model(X)\n",
    "            test_loss += loss_fn(pred, y).item()\n",
    "            correct += (pred.argmax(1) == y).type(torch.float).sum().item()\n",
    "    test_loss /= size\n",
    "    correct /= size\n",
    "    print(f\"Test Error: \\n Accuracy: {(100*correct):>0.1f}%, Avg loss: {test_loss:>8f} \\n\")"
   ]
  },
  {
   "cell_type": "code",
   "execution_count": 33,
   "metadata": {},
   "outputs": [
    {
     "output_type": "stream",
     "name": "stdout",
     "text": [
      "Epoch 1\n",
      "-------------------------------\n",
      "loss: 2.300164  [    0/60000]\n",
      "loss: 2.296530  [ 6400/60000]\n",
      "loss: 2.283843  [12800/60000]\n",
      "loss: 2.282676  [19200/60000]\n",
      "loss: 2.275575  [25600/60000]\n",
      "loss: 2.247028  [32000/60000]\n",
      "loss: 2.261315  [38400/60000]\n",
      "loss: 2.241509  [44800/60000]\n",
      "loss: 2.221464  [51200/60000]\n",
      "loss: 2.224913  [57600/60000]\n",
      "Test Error: \n",
      " Accuracy: 35.3%, Avg loss: 0.034907 \n",
      "\n",
      "Epoch 2\n",
      "-------------------------------\n",
      "loss: 2.217163  [    0/60000]\n",
      "loss: 2.229348  [ 6400/60000]\n",
      "loss: 2.208843  [12800/60000]\n",
      "loss: 2.216443  [19200/60000]\n",
      "loss: 2.206436  [25600/60000]\n",
      "loss: 2.146705  [32000/60000]\n",
      "loss: 2.180224  [38400/60000]\n",
      "loss: 2.145914  [44800/60000]\n",
      "loss: 2.103900  [51200/60000]\n",
      "loss: 2.119587  [57600/60000]\n",
      "Test Error: \n",
      " Accuracy: 43.5%, Avg loss: 0.033303 \n",
      "\n",
      "Epoch 3\n",
      "-------------------------------\n",
      "loss: 2.107449  [    0/60000]\n",
      "loss: 2.128494  [ 6400/60000]\n",
      "loss: 2.096261  [12800/60000]\n",
      "loss: 2.117387  [19200/60000]\n",
      "loss: 2.107770  [25600/60000]\n",
      "loss: 2.012576  [32000/60000]\n",
      "loss: 2.059128  [38400/60000]\n",
      "loss: 2.012715  [44800/60000]\n",
      "loss: 1.939958  [51200/60000]\n",
      "loss: 1.981652  [57600/60000]\n",
      "Test Error: \n",
      " Accuracy: 46.9%, Avg loss: 0.031161 \n",
      "\n",
      "Epoch 4\n",
      "-------------------------------\n",
      "loss: 1.961010  [    0/60000]\n",
      "loss: 1.991065  [ 6400/60000]\n",
      "loss: 1.948937  [12800/60000]\n",
      "loss: 1.988217  [19200/60000]\n",
      "loss: 1.994959  [25600/60000]\n",
      "loss: 1.865017  [32000/60000]\n",
      "loss: 1.921200  [38400/60000]\n",
      "loss: 1.875803  [44800/60000]\n",
      "loss: 1.773879  [51200/60000]\n",
      "loss: 1.842333  [57600/60000]\n",
      "Test Error: \n",
      " Accuracy: 48.0%, Avg loss: 0.029072 \n",
      "\n",
      "Epoch 5\n",
      "-------------------------------\n",
      "loss: 1.818616  [    0/60000]\n",
      "loss: 1.859528  [ 6400/60000]\n",
      "loss: 1.812503  [12800/60000]\n",
      "loss: 1.872801  [19200/60000]\n",
      "loss: 1.895545  [25600/60000]\n",
      "loss: 1.739282  [32000/60000]\n",
      "loss: 1.806079  [38400/60000]\n",
      "loss: 1.771026  [44800/60000]\n",
      "loss: 1.648422  [51200/60000]\n",
      "loss: 1.733064  [57600/60000]\n",
      "Test Error: \n",
      " Accuracy: 49.3%, Avg loss: 0.027423 \n",
      "\n",
      "Done!\n"
     ]
    }
   ],
   "source": [
    "epochs = 5\n",
    "for t in range(epochs):\n",
    "    print(f\"Epoch {t+1}\\n-------------------------------\")\n",
    "    train(train_dataloader, model, loss_fn, optimizer)\n",
    "    test(test_dataloader, model)\n",
    "print(\"Done!\")"
   ]
  },
  {
   "cell_type": "code",
   "execution_count": 34,
   "metadata": {},
   "outputs": [
    {
     "output_type": "stream",
     "name": "stdout",
     "text": [
      "Saved PyTorch Model State to FashionMNIST_20Ep.model\n"
     ]
    }
   ],
   "source": [
    "# PyTorch also has native ONNX export support. There are a lot of things you can do with ONNX model, including running inference on different platforms and in different programming languages\n",
    "torch.save(model.state_dict(), \"../models/FashionMNIST_20Ep.model\")\n",
    "print(\"Saved PyTorch Model State to FashionMNIST_20Ep.model\")"
   ]
  },
  {
   "cell_type": "code",
   "execution_count": 10,
   "metadata": {},
   "outputs": [
    {
     "output_type": "execute_result",
     "data": {
      "text/plain": [
       "<All keys matched successfully>"
      ]
     },
     "metadata": {},
     "execution_count": 10
    }
   ],
   "source": [
    "model = NeuralNetwork()\n",
    "model.load_state_dict(torch.load(\"../models/FashionMNIST_20Ep.model\"))"
   ]
  },
  {
   "cell_type": "code",
   "execution_count": 12,
   "metadata": {
    "tags": []
   },
   "outputs": [
    {
     "output_type": "stream",
     "name": "stdout",
     "text": [
      "Predicted: \"Sneaker\", Actual: \"Ankle boot\"\nPredicted: \"Pullover\", Actual: \"Pullover\"\nPredicted: \"Dress\", Actual: \"Trouser\"\nPredicted: \"Dress\", Actual: \"Trouser\"\nPredicted: \"Pullover\", Actual: \"Shirt\"\nPredicted: \"Dress\", Actual: \"Trouser\"\nPredicted: \"Coat\", Actual: \"Coat\"\nPredicted: \"Coat\", Actual: \"Shirt\"\nPredicted: \"Sneaker\", Actual: \"Sandal\"\nPredicted: \"Sneaker\", Actual: \"Sneaker\"\nPredicted: \"Pullover\", Actual: \"Coat\"\nPredicted: \"Sneaker\", Actual: \"Sandal\"\nPredicted: \"Sneaker\", Actual: \"Sneaker\"\nPredicted: \"Dress\", Actual: \"Dress\"\nPredicted: \"Coat\", Actual: \"Coat\"\nPredicted: \"Dress\", Actual: \"Trouser\"\nPredicted: \"Pullover\", Actual: \"Pullover\"\nPredicted: \"Pullover\", Actual: \"Coat\"\nPredicted: \"Bag\", Actual: \"Bag\"\nPredicted: \"T-shirt/top\", Actual: \"T-shirt/top\"\nPredicted: \"T-shirt/top\", Actual: \"Pullover\"\nPredicted: \"Sneaker\", Actual: \"Sandal\"\nPredicted: \"Sneaker\", Actual: \"Sneaker\"\nPredicted: \"Sneaker\", Actual: \"Ankle boot\"\nPredicted: \"Dress\", Actual: \"Trouser\"\nPredicted: \"Pullover\", Actual: \"Coat\"\nPredicted: \"Coat\", Actual: \"Shirt\"\nPredicted: \"Dress\", Actual: \"T-shirt/top\"\nPredicted: \"Sneaker\", Actual: \"Ankle boot\"\nPredicted: \"Dress\", Actual: \"Dress\"\nPredicted: \"Bag\", Actual: \"Bag\"\nPredicted: \"Bag\", Actual: \"Bag\"\nPredicted: \"Dress\", Actual: \"Dress\"\nPredicted: \"Dress\", Actual: \"Dress\"\nPredicted: \"Bag\", Actual: \"Bag\"\nPredicted: \"T-shirt/top\", Actual: \"T-shirt/top\"\nPredicted: \"Sneaker\", Actual: \"Sneaker\"\nPredicted: \"Sneaker\", Actual: \"Sandal\"\nPredicted: \"Sneaker\", Actual: \"Sneaker\"\nPredicted: \"Bag\", Actual: \"Ankle boot\"\nPredicted: \"T-shirt/top\", Actual: \"Shirt\"\nPredicted: \"Dress\", Actual: \"Trouser\"\nPredicted: \"Dress\", Actual: \"Dress\"\nPredicted: \"Sneaker\", Actual: \"Sneaker\"\nPredicted: \"Coat\", Actual: \"Shirt\"\nPredicted: \"Sneaker\", Actual: \"Sneaker\"\nPredicted: \"Pullover\", Actual: \"Pullover\"\nPredicted: \"Dress\", Actual: \"Trouser\"\nPredicted: \"Coat\", Actual: \"Pullover\"\nPredicted: \"Coat\", Actual: \"Pullover\"\nPredicted: \"Pullover\", Actual: \"Coat\"\nPredicted: \"Pullover\", Actual: \"Coat\"\nPredicted: \"Sneaker\", Actual: \"Sandal\"\nPredicted: \"Pullover\", Actual: \"Bag\"\nPredicted: \"Coat\", Actual: \"Pullover\"\nPredicted: \"Pullover\", Actual: \"Pullover\"\nPredicted: \"Bag\", Actual: \"Bag\"\nPredicted: \"Coat\", Actual: \"Coat\"\nPredicted: \"Bag\", Actual: \"Bag\"\nPredicted: \"T-shirt/top\", Actual: \"T-shirt/top\"\nPredicted: \"Sneaker\", Actual: \"Sneaker\"\nPredicted: \"Sneaker\", Actual: \"Sneaker\"\nPredicted: \"Bag\", Actual: \"Bag\"\nPredicted: \"Sneaker\", Actual: \"Sandal\"\nPredicted: \"Dress\", Actual: \"Trouser\"\nPredicted: \"Dress\", Actual: \"Trouser\"\nPredicted: \"Dress\", Actual: \"Pullover\"\nPredicted: \"Dress\", Actual: \"Dress\"\nPredicted: \"Sneaker\", Actual: \"Ankle boot\"\nPredicted: \"Bag\", Actual: \"Bag\"\nPredicted: \"Sneaker\", Actual: \"Sneaker\"\nPredicted: \"T-shirt/top\", Actual: \"T-shirt/top\"\nPredicted: \"Pullover\", Actual: \"Pullover\"\nPredicted: \"T-shirt/top\", Actual: \"Shirt\"\nPredicted: \"Coat\", Actual: \"Pullover\"\nPredicted: \"Dress\", Actual: \"Dress\"\nPredicted: \"Dress\", Actual: \"Trouser\"\nPredicted: \"Pullover\", Actual: \"Pullover\"\nPredicted: \"Bag\", Actual: \"Bag\"\nPredicted: \"Pullover\", Actual: \"Coat\"\nPredicted: \"Dress\", Actual: \"Trouser\"\nPredicted: \"Bag\", Actual: \"Bag\"\nPredicted: \"Sandal\", Actual: \"Sandal\"\nPredicted: \"Bag\", Actual: \"Ankle boot\"\nPredicted: \"Sneaker\", Actual: \"Sandal\"\nPredicted: \"T-shirt/top\", Actual: \"T-shirt/top\"\nPredicted: \"Dress\", Actual: \"Dress\"\nPredicted: \"Coat\", Actual: \"Pullover\"\nPredicted: \"T-shirt/top\", Actual: \"T-shirt/top\"\nPredicted: \"Pullover\", Actual: \"Shirt\"\nPredicted: \"Sneaker\", Actual: \"Sandal\"\nPredicted: \"Dress\", Actual: \"Dress\"\nPredicted: \"Coat\", Actual: \"Shirt\"\nPredicted: \"Sneaker\", Actual: \"Sneaker\"\nPredicted: \"Dress\", Actual: \"Trouser\"\nPredicted: \"Bag\", Actual: \"Bag\"\nPredicted: \"T-shirt/top\", Actual: \"T-shirt/top\"\nPredicted: \"Dress\", Actual: \"Trouser\"\nPredicted: \"Pullover\", Actual: \"Coat\"\nPredicted: \"Pullover\", Actual: \"Pullover\"\n"
     ]
    }
   ],
   "source": [
    "classes = [\n",
    "    \"T-shirt/top\",\n",
    "    \"Trouser\",\n",
    "    \"Pullover\",\n",
    "    \"Dress\",\n",
    "    \"Coat\",\n",
    "    \"Sandal\",\n",
    "    \"Shirt\",\n",
    "    \"Sneaker\",\n",
    "    \"Bag\",\n",
    "    \"Ankle boot\",\n",
    "]\n",
    "\n",
    "model.eval()\n",
    "x, y = test_data[2][0], test_data[2][1]\n",
    "for i in range(100):\n",
    "    x, y = test_data[i][0], test_data[i][1]\n",
    "    with torch.no_grad():\n",
    "        pred = model(x)\n",
    "        predicted, actual = classes[pred[0].argmax(0)], classes[y]\n",
    "        print(f'Predicted: \"{predicted}\", Actual: \"{actual}\"')"
   ]
  }
 ],
 "metadata": {
  "kernelspec": {
   "name": "python379jvsc74a57bd0e746eafcc9c3755c618fd70b7289e2c77c6dfaa86036ed9f41128bb78d1ac1c4",
   "display_name": "Python 3.7.9 64-bit ('base': conda)"
  },
  "language_info": {
   "codemirror_mode": {
    "name": "ipython",
    "version": 3
   },
   "file_extension": ".py",
   "mimetype": "text/x-python",
   "name": "python",
   "nbconvert_exporter": "python",
   "pygments_lexer": "ipython3",
   "version": "3.7.9"
  }
 },
 "nbformat": 4,
 "nbformat_minor": 4
}